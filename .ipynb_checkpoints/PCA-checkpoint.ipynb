{
 "metadata": {
  "name": "",
  "signature": "sha256:5c1e6ab27382c550e903f7502915f35897130377d713ff62932196ddec097ee2"
 },
 "nbformat": 3,
 "nbformat_minor": 0,
 "worksheets": []
}