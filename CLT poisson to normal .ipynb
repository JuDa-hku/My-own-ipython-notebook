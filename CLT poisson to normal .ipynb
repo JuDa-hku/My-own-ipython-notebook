{
 "metadata": {
  "name": "",
  "signature": "sha256:84043be156c2743203972050ea66ef544e6c8255968740be438972f44f769b7a"
 },
 "nbformat": 3,
 "nbformat_minor": 0,
 "worksheets": [
  {
   "cells": [
    {
     "cell_type": "code",
     "collapsed": false,
     "input": [
      "import numpy as np\n",
      "import matplotlib.pyplot as plt\n",
      "from __future__ import division\n",
      "%matplotlib inline"
     ],
     "language": "python",
     "metadata": {},
     "outputs": [],
     "prompt_number": 2
    },
    {
     "cell_type": "markdown",
     "metadata": {},
     "source": [
      "#Simple example of CLT"
     ]
    },
    {
     "cell_type": "code",
     "collapsed": false,
     "input": [
      "N=100000\n",
      "m=500\n",
      "la=0.03\n",
      "Y=np.zeros(N)\n",
      "sigma=1\n",
      "mu=0\n",
      "for i in xrange(0,N):\n",
      "    Y[i]=np.sum(np.random.poisson(la, m))\n",
      "newY=(Y-0.03*m)/np.sqrt(0.03*m)\n",
      "#newY\n",
      "count,bins,ignored = plt.hist(newY,30, normed=True,stacked=True)\n",
      "plt.plot(bins, 1/(sigma * np.sqrt(2 * np.pi)) *np.exp( - (bins - mu)**2 / (2 * sigma**2) ),linewidth=2, color='r')\n",
      "\n",
      "res=0\n",
      "for i in xrange(0,3):\n",
      "    tmp=np.exp(-1.5)*(1.5)**i/np.math.factorial(i)\n",
      "    res=res+tmp\n",
      "print 1-res"
     ],
     "language": "python",
     "metadata": {},
     "outputs": [
      {
       "output_type": "stream",
       "stream": "stdout",
       "text": [
        "0.191153169462\n"
       ]
      },
      {
       "metadata": {},
       "output_type": "display_data",
       "png": "[encoded data removed]",
       "text": [
        "<matplotlib.figure.Figure at 0x7f66ffa3c290>"
       ]
      }
     ],
     "prompt_number": 11
    },
    {
     "cell_type": "code",
     "collapsed": false,
     "input": [
      "newY"
     ],
     "language": "python",
     "metadata": {},
     "outputs": [
      {
       "metadata": {},
       "output_type": "pyout",
       "prompt_number": 35,
       "text": [
        "array([-1.22474487,  0.40824829,  1.22474487, ...,  1.22474487,\n",
        "       -0.40824829, -1.22474487])"
       ]
      }
     ],
     "prompt_number": 35
    },
    {
     "cell_type": "code",
     "collapsed": false,
     "input": [],
     "language": "python",
     "metadata": {},
     "outputs": []
    }
   ],
   "metadata": {}
  }
 ]
}