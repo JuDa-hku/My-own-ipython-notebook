{
 "metadata": {
  "name": "",
  "signature": "sha256:2412d0abd9a703641f42398237f5cb30a400d15ed06149cdd7226638175a40f9"
 },
 "nbformat": 3,
 "nbformat_minor": 0,
 "worksheets": [
  {
   "cells": [
    {
     "cell_type": "markdown",
     "metadata": {},
     "source": [
      "##Generalized Linear Models"
     ]
    },
    {
     "cell_type": "code",
     "collapsed": false,
     "input": [
      "from sklearn import linear_model\n",
      "import matplotlib.pylab as pl\n",
      "import numpy as np\n",
      "%matplotlib inline"
     ],
     "language": "python",
     "metadata": {},
     "outputs": [],
     "prompt_number": 12
    },
    {
     "cell_type": "markdown",
     "metadata": {},
     "source": [
      "###Linear Model"
     ]
    },
    {
     "cell_type": "code",
     "collapsed": false,
     "input": [
      "clf = linear_model.LinearRegression()\n",
      "clf.fit ([[0,0],[1,1],[2,2]], [0,1,2])\n",
      "clf.coef_"
     ],
     "language": "python",
     "metadata": {},
     "outputs": [
      {
       "metadata": {},
       "output_type": "pyout",
       "prompt_number": 46,
       "text": [
        "array([ 0.5,  0.5])"
       ]
      }
     ],
     "prompt_number": 46
    },
    {
     "cell_type": "markdown",
     "metadata": {},
     "source": [
      "###Ridge Regresion"
     ]
    },
    {
     "cell_type": "code",
     "collapsed": false,
     "input": [
      "alphas = np.logspace(-2,10,50)\n",
      "clf = linear_model.Ridge()\n",
      "coefs = []\n",
      "for alpha in alphas:\n",
      "    clf.alpha = alpha\n",
      "    clf.fit ([[0,0],[1,1],[2,2]], [0,1,2])\n",
      "    coefs.append(clf.coef_[1])\n",
      "pl.figure(figsize=(4,3))\n",
      "pl.semilogx(alphas, coefs)\n",
      "pl.show()\n",
      "clf.alpha=1000\n",
      "clf.fit ([[0,0],[1,1],[2,2]], [0,1,2])\n",
      "print(clf.coef_)"
     ],
     "language": "python",
     "metadata": {},
     "outputs": [
      {
       "metadata": {},
       "output_type": "display_data",
       "png": "[encoded data removed]",
       "text": [
        "<matplotlib.figure.Figure at 0x4bb5fd0>"
       ]
      },
      {
       "output_type": "stream",
       "stream": "stdout",
       "text": [
        "[ 0.00199203  0.00199203]\n"
       ]
      }
     ],
     "prompt_number": 38
    },
    {
     "cell_type": "markdown",
     "metadata": {},
     "source": [
      "###The cross-validation form of the Ridge regression"
     ]
    },
    {
     "cell_type": "code",
     "collapsed": false,
     "input": [
      "clf = linear_model.RidgeCV(alphas=[0.1,1,10])\n",
      "clf.fit([[0,0],[0,0],[1,1]], [0,0.1,1])\n",
      "clf.coef_\n",
      "print(\"best_alpha={0},coef={1}\").  format(clf.alpha_, clf.coef_)"
     ],
     "language": "python",
     "metadata": {},
     "outputs": [
      {
       "output_type": "stream",
       "stream": "stdout",
       "text": [
        "best_alpha=0.1,coef=[ 0.44186047  0.44186047]\n"
       ]
      }
     ],
     "prompt_number": 29
    },
    {
     "cell_type": "markdown",
     "metadata": {},
     "source": [
      "###Lasso\n",
      "Ridge regression **never** force coef to zero, Lasso will do."
     ]
    },
    {
     "cell_type": "code",
     "collapsed": false,
     "input": [
      "clf = linear_model.Lasso(alpha = 0.1)\n",
      "clf.fit([[0,0],[0,0],[1,1]], [0,0.1,1])\n",
      "print(clf.coef_)\n",
      "alphas = np.linspace(0.01,1,50)\n",
      "clf = linear_model.Lasso()\n",
      "coefs = []\n",
      "for alpha in alphas:\n",
      "    clf.alpha = alpha\n",
      "    clf.fit ([[0,0],[1,1],[2,2]], [0,0.1,2])\n",
      "    coefs.append(clf.coef_[0])\n",
      "pl.figure(figsize=(4,3))\n",
      "pl.plot(alphas, coefs)\n",
      "pl.show()\n",
      "\n"
     ],
     "language": "python",
     "metadata": {},
     "outputs": [
      {
       "output_type": "stream",
       "stream": "stdout",
       "text": [
        "[ 0.5  0. ]\n"
       ]
      },
      {
       "metadata": {},
       "output_type": "display_data",
       "png": "[encoded data removed]",
       "text": [
        "<matplotlib.figure.Figure at 0x4a91b90>"
       ]
      }
     ],
     "prompt_number": 45
    },
    {
     "cell_type": "markdown",
     "metadata": {},
     "source": [
      "Lasso *alpha* parameter can be set by cross-validation. For high-dimensional datasets with many collinear regressors, **LassoCv** is more often preferrable. However, **LassoLarsCv** has the advantage of exploring more relevant values of alpha parameter."
     ]
    },
    {
     "cell_type": "code",
     "collapsed": false,
     "input": [],
     "language": "python",
     "metadata": {},
     "outputs": []
    }
   ],
   "metadata": {}
  }
 ]
}