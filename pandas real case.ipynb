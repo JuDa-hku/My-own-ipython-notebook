{
 "metadata": {
  "name": "",
  "signature": "sha256:1db5176e7a7c5be41e15354ba3c49ccf61edf3b2e00d0a84f33eb869c128a494"
 },
 "nbformat": 3,
 "nbformat_minor": 0,
 "worksheets": [
  {
   "cells": [
    {
     "cell_type": "code",
     "collapsed": false,
     "input": [
      "import pandas as pd\n",
      "import numpy as np\n",
      "import pylab as P\n",
      "%matplotlib inline"
     ],
     "language": "python",
     "metadata": {},
     "outputs": [],
     "prompt_number": 50
    },
    {
     "cell_type": "code",
     "collapsed": false,
     "input": [
      "df = pd.read_csv('./train.csv')"
     ],
     "language": "python",
     "metadata": {},
     "outputs": [],
     "prompt_number": 36
    },
    {
     "cell_type": "markdown",
     "metadata": {},
     "source": [
      "To know some basic information about the dataset, we found that there are null values in it."
     ]
    },
    {
     "cell_type": "code",
     "collapsed": false,
     "input": [
      "print df.info()"
     ],
     "language": "python",
     "metadata": {},
     "outputs": [
      {
       "output_type": "stream",
       "stream": "stdout",
       "text": [
        "<class 'pandas.core.frame.DataFrame'>\n",
        "Int64Index: 891 entries, 0 to 890\n",
        "Data columns (total 12 columns):\n",
        "PassengerId    891 non-null int64\n",
        "Survived       891 non-null int64\n",
        "Pclass         891 non-null int64\n",
        "Name           891 non-null object\n",
        "Sex            891 non-null object\n",
        "Age            714 non-null float64\n",
        "SibSp          891 non-null int64\n",
        "Parch          891 non-null int64\n",
        "Ticket         891 non-null object\n",
        "Fare           891 non-null float64\n",
        "Cabin          204 non-null object\n",
        "Embarked       889 non-null object\n",
        "dtypes: float64(2), int64(5), object(5)None\n"
       ]
      }
     ],
     "prompt_number": 37
    },
    {
     "cell_type": "markdown",
     "metadata": {},
     "source": [
      "##Female to 0 and male to 1"
     ]
    },
    {
     "cell_type": "code",
     "collapsed": false,
     "input": [
      "df['Gender'] = 4\n",
      "df['Gender'] = df['Sex'].map({'female':0, 'male':1}).astype(int)"
     ],
     "language": "python",
     "metadata": {},
     "outputs": [],
     "prompt_number": 38
    },
    {
     "cell_type": "markdown",
     "metadata": {},
     "source": [
      "## Fill the null values\n",
      "There are null values in some columns. We use the median of age to fill the null values for age column"
     ]
    },
    {
     "cell_type": "code",
     "collapsed": false,
     "input": [
      "print df.describe()\n",
      "df['Age'].hist()"
     ],
     "language": "python",
     "metadata": {},
     "outputs": [
      {
       "output_type": "stream",
       "stream": "stdout",
       "text": [
        "       PassengerId    Survived      Pclass         Age       SibSp  \\\n",
        "count   891.000000  891.000000  891.000000  714.000000  891.000000   \n",
        "mean    446.000000    0.383838    2.308642   29.699118    0.523008   \n",
        "std     257.353842    0.486592    0.836071   14.526497    1.102743   \n",
        "min       1.000000    0.000000    1.000000    0.420000    0.000000   \n",
        "25%     223.500000    0.000000    2.000000   20.125000    0.000000   \n",
        "50%     446.000000    0.000000    3.000000   28.000000    0.000000   \n",
        "75%     668.500000    1.000000    3.000000   38.000000    1.000000   \n",
        "max     891.000000    1.000000    3.000000   80.000000    8.000000   \n",
        "\n",
        "            Parch        Fare      Gender     AgeFill  \n",
        "count  891.000000  891.000000  891.000000  891.000000  \n",
        "mean     0.381594   32.204208    0.647587   29.112424  \n",
        "std      0.806057   49.693429    0.477990   13.304424  \n",
        "min      0.000000    0.000000    0.000000    0.420000  \n",
        "25%      0.000000    7.910400    0.000000   21.500000  \n",
        "50%      0.000000   14.454200    1.000000   26.000000  \n",
        "75%      0.000000   31.000000    1.000000   36.000000  \n",
        "max      6.000000  512.329200    1.000000   80.000000  \n",
        "\n",
        "[8 rows x 9 columns]\n"
       ]
      },
      {
       "metadata": {},
       "output_type": "pyout",
       "prompt_number": 51,
       "text": [
        "<matplotlib.axes.AxesSubplot at 0x7f7662013d10>"
       ]
      },
      {
       "metadata": {},
       "output_type": "display_data",
       "png": "[encoded data removed]",
       "text": [
        "<matplotlib.figure.Figure at 0x7f7661f22b50>"
       ]
      }
     ],
     "prompt_number": 51
    },
    {
     "cell_type": "code",
     "collapsed": false,
     "input": [
      "median_ages = np.zeros((2, 3))\n",
      "for i in range(0, 2):\n",
      "    for j in range(0, 3):\n",
      "        median_ages[i, j] = df[(df['Gender']==i)&(df['Pclass']==j+1)]['Age'].dropna().median()"
     ],
     "language": "python",
     "metadata": {},
     "outputs": [],
     "prompt_number": 40
    },
    {
     "cell_type": "code",
     "collapsed": false,
     "input": [
      "median_ages"
     ],
     "language": "python",
     "metadata": {},
     "outputs": [
      {
       "metadata": {},
       "output_type": "pyout",
       "prompt_number": 41,
       "text": [
        "array([[ 35. ,  28. ,  21.5],\n",
        "       [ 40. ,  30. ,  25. ]])"
       ]
      }
     ],
     "prompt_number": 41
    },
    {
     "cell_type": "markdown",
     "metadata": {},
     "source": [
      "In order to keep the original information, we add a new column 'AgeFill'."
     ]
    },
    {
     "cell_type": "code",
     "collapsed": false,
     "input": [
      "df['AgeFill'] = df['Age']\n",
      "for i in range(0,2):\n",
      "    for j in range(0, 3):\n",
      "        df.loc[(df.Age.isnull())&(df.Gender==i)&(df.Pclass==j+1), 'AgeFill'] = median_ages[i, j]\n",
      "\n"
     ],
     "language": "python",
     "metadata": {},
     "outputs": [],
     "prompt_number": 43
    },
    {
     "cell_type": "code",
     "collapsed": false,
     "input": [
      "newdf0 = df.drop('Age', 1)\n",
      "# drop are intended to drop a row with the default axis == 0, for example:\n",
      "newdf1 = df. drop(df.Age.isnull())\n",
      "train_data = df.values"
     ],
     "language": "python",
     "metadata": {},
     "outputs": [],
     "prompt_number": 49
    },
    {
     "cell_type": "code",
     "collapsed": false,
     "input": [],
     "language": "python",
     "metadata": {},
     "outputs": []
    }
   ],
   "metadata": {}
  }
 ]
}